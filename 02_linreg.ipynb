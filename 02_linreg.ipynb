{
 "cells": [
  {
   "cell_type": "markdown",
   "metadata": {
    "id": "dCa_iHnPOnso"
   },
   "source": [
    "### Линейная регрессия\n",
    "является методом машинного обучения, позволяющим прогнозировать значение количественного признака в виде линейной комбинации нецелевых принаков с коэффициентами $w$ модели.\n",
    "\n",
    "Более формально это формулируется так:  \n",
    "Пусть есть некоторый целевой признак $y$, и известные признаки $X = [x_1, x_2, ... , x_n]$. Тогда предсказать значение $y$ можно с помощью вычисления следующего выражения:\n",
    "\n",
    "$$\n",
    "y = w_0 + \\sum_{i=1}^{m} {w_i x_i} \\tag{1}\n",
    "$$\n",
    "\n",
    "При этом от свободного коэффициента $w_0$ можно избавиться, если к признакам $X$ добавить фиктивный константный \"признак\", равный единице: $X = [1, x_1, x_2, ... , x_n]$. \n",
    "В таком случае формулу $(1)$ можно переписать:\n",
    "\n",
    "$$\n",
    "y = \\sum_{i=0}^{m} {w_i x_i}, \\tag{2}\n",
    "$$   \n",
    "\n",
    "Можно представить формулу $(2)$ в матричном виде, полагая, что $X$ - матрица объектов-признаков, $y$ - вектор столбец целевой переменной, а $w$ - вектор-столбец коэффициентов, получим\n",
    "\n",
    "$$\n",
    "\\overrightarrow{y} = X \\overrightarrow{w} \\tag{3}\n",
    "$$\n",
    "\n",
    "\n",
    "\n"
   ]
  },
  {
   "cell_type": "markdown",
   "metadata": {
    "id": "ayzTbwNeOnsx"
   },
   "source": [
    "### Поиск параметров\n",
    "Очевидно, что в уравнениях $(1 - 3)$ нам известны значения $X$ и $y$ - это константы в некотором роде, так как это обучающая выборка. Чтобы подобрать значения коэффициентов (они же веса) $w$, нам необходима функция ошибки (loss-функция). Выглядит она следующим образом:\n",
    "\n",
    "$$\n",
    "MSE\\left(\\overline{y}, y\\right) = \\frac{1}{n} \\sum_{i=0}^{n} {\\left(\\overline{y_i} - y_i\\right)^2}, \\tag{4}\n",
    "\\\\\n",
    "$$\n",
    "$$\n",
    "MSE(X, w_0, ... , w_1, y) = \\frac{1}{n} \\sum_{i=1}^{n} {\\left(w_0 + w_1 x_1 + ... + w_n x_n - y_i \\right)^2} \\tag{5}\n",
    "$$\n",
    "\n",
    "Функция ошибки позволяет оценить точность модели в числовом виде - чем меньше ее значение, тем выше точность модели."
   ]
  },
  {
   "cell_type": "markdown",
   "metadata": {
    "id": "itJSjAsHOnsy"
   },
   "source": [
    "### Градиентный спуск\n",
    "\n",
    "Очевидно, что значение функции ошибки зависит от весов модели, которую мы оцениваем. Соответсвенно задача состоит в том, чтобы найти такие значения весов, при котором значение функции ошибки будет минимальным. \n",
    "\n",
    "Есть несколько способов минимизации функций нескольких переменных, но мы остановимся на градиентом спуске."
   ]
  },
  {
   "cell_type": "markdown",
   "metadata": {
    "id": "3aCk1Xs-Onsy"
   },
   "source": [
    "#### Градиент\n",
    "Уравнение линейной регрессии завит от нескольких переменных (если число признаков больше одного), соответсвенно мы имеем дело с функцией нескольких переменных. Градиент такой функции - это вектор частных производных:\n",
    "$$\n",
    "\\nabla{y(w_0, w_1, ... , w_n)} = \\left({\\frac{\\partial y}{\\partial w_0}}, {\\frac{\\partial y}{\\partial w_1}}, ... , {\\frac{\\partial y}{\\partial w_n}} \\right)^T \\tag{6}\n",
    "$$\n",
    "указывающий направление наискорейшего _роста_ функции\n",
    "\n",
    "Но нам нужен градиент функции ошибки. В формуле $(6)$ мы привели пример градиента обычной функции, но, нам собственно нужен не он, а градинет $MSE$.  \n",
    "В формулах $(4)$ и $(5)$ мы вывели уравнения функции ошибки для индивидуальных весов, и для матрицы, соответсвенно в формулах ниже мы рассчитаем градиенты так же для двух случаев:\n",
    "\n",
    "\n",
    "$$\n",
    "\\mathcal{L} = MSE(w_0, w_1, ... , w_n), \\tag{7}\\\\\n",
    "\\frac{\\partial\\mathcal{L}}{\\partial w_0} = \\frac{2}{n} \\sum_{i=1}^{n} {\\left(w_0 + w_1 x_1 + ... + w_n x_n - y_i\\right)}, \\\\\n",
    "\\frac{\\partial\\mathcal{L}}{\\partial w_j} = \\frac{2}{n} \\sum_{i=1}^{n} {x_j \\left(w_0 + w_1 x_1 + ... + w_n x_n - y_i\\right)},\\ j \\in \\{1, \\dots , n\\} \n",
    "$$\n",
    "$$\n",
    "\\mathcal{L} = MSE(\\overrightarrow{w}), \\tag{8} \\\\\n",
    "\\frac{\\partial\\mathcal{L}}{\\partial W_j} = \\frac{2}{n} \\sum_{i=1}^{n} {x_i^j \\left(\\overline{y}_i - y_i\\right)}\n",
    "$$\n"
   ]
  },
  {
   "cell_type": "markdown",
   "metadata": {
    "id": "I1h_G7SoOnsz"
   },
   "source": [
    "Идея **градиентного спуска** заключается в том, чтобы, двигаясь вдоль подсичтанного градиента функции, найти ее минимум или максимум. Как вы читали выше, градиент это направление _роста_ функции, но так как мы хотим найти минимум, то мы будем двигаться в направлении антиградиента, то есть убывания функции. \n",
    "\n",
    "Собственно, уравнение выглядит вот таким образом:\n",
    "\n",
    "$$\n",
    "w_{i+1} = w_i - learning\\ rate * \\nabla{f(w_i)}\n",
    "$$\n",
    "\n",
    "Для того чтобы вычислить значение на следующем шаге, нужно от текущего значения вычесть значение градиента на текущем шаге, умноженное на _шаг_ градиентного спуска $learning\\ rate$.\n",
    "\n",
    "Параметры для начального значения $w$ и $learning\\ rate$ подбираются эмпирически - заранее нельзя знать оптимального их значения.\n",
    "\n",
    "В нашем случае значение $\\nabla{f}$ зависит от того, через что вы предпочтете задавать веса - через матрицу или через отдельные значения.\n",
    "\n",
    "\n"
   ]
  },
  {
   "cell_type": "markdown",
   "metadata": {
    "id": "5u1AFYowOns0"
   },
   "source": [
    "Реализуем простой пример линейной регрессии, с одной зависимой переменной У, и одной независимой переменной х.  \n",
    "Создадим данные. Зависимость будет такой: $y = 2 * x + 10$\n",
    "\n",
    "**Hint**\n",
    "- [np.arange](https://numpy.org/doc/stable/reference/generated/numpy.arange.html)\n",
    "- Особенность сложения массивов в питоне: \n",
    "`[1] + [2,3,4] --> [1,2,3,4]`, `[1,2,3] + [4] --> [1,2,3,4]`"
   ]
  },
  {
   "cell_type": "code",
   "execution_count": 513,
   "metadata": {
    "colab": {
     "base_uri": "https://localhost:8080/",
     "height": 265
    },
    "id": "wRr9_pDIOns0",
    "outputId": "60e96758-8a9e-4f7f-eb16-bae18b09ab4c"
   },
   "outputs": [
    {
     "data": {
      "text/plain": "<Figure size 432x288 with 1 Axes>",
      "image/png": "[encoded data removed]"
     },
     "metadata": {
      "needs_background": "light"
     },
     "output_type": "display_data"
    }
   ],
   "source": [
    "import numpy as np\n",
    "import matplotlib.pyplot as plt\n",
    "%matplotlib inline\n",
    "\n",
    "x = np.array([[x] for x in np.arange(0.0, 6.0, 0.5)])\n",
    "y = np.array([[2*x[0] + 10] for x in x.tolist()])\n",
    "\n",
    "plt.scatter(x, y)\n",
    "plt.show()"
   ]
  },
  {
   "cell_type": "markdown",
   "metadata": {
    "id": "s2prAoeQOns2"
   },
   "source": [
    "Сейчас у нас строго *линейная зависимость*. Добавим немного шума, используя метод `np.random.rand`\n",
    "\n",
    "Воспользуемся `np.random.seed(someNumber)`, чтобы зафиксировать случайность и получать при перезапуске ячейки\n",
    "стабильный результат.\n",
    "\n",
    "**Hint**\n",
    "- [Доки по np.random](https://docs.scipy.org/doc/numpy-1.15.0/reference/routines.random.html)"
   ]
  },
  {
   "cell_type": "code",
   "execution_count": 514,
   "metadata": {
    "colab": {
     "base_uri": "https://localhost:8080/",
     "height": 265
    },
    "id": "qI1ar2b0Ons3",
    "outputId": "efc0a1d0-1a59-47b2-8b5e-888f7d6f8ebb"
   },
   "outputs": [
    {
     "data": {
      "text/plain": "<Figure size 432x288 with 1 Axes>",
      "image/png": "[encoded data removed]"
     },
     "metadata": {
      "needs_background": "light"
     },
     "output_type": "display_data"
    }
   ],
   "source": [
    "np.random.seed(42)\n",
    "\n",
    "x = np.array([[x] for x in np.arange(0.0, 6.0, 0.5)])\n",
    "y = np.array([[2*x[0] + 10 + np.random.rand()*3] for x in x.tolist()])\n",
    "plt.scatter(x, y)\n",
    "plt.show()"
   ]
  },
  {
   "cell_type": "code",
   "execution_count": 515,
   "metadata": {
    "colab": {
     "base_uri": "https://localhost:8080/"
    },
    "id": "uIqQu1cgOns3",
    "outputId": "f739e650-f60a-4658-e597-c0de80f740c9"
   },
   "outputs": [
    {
     "name": "stdout",
     "output_type": "stream",
     "text": [
      "[[0. ]\n",
      " [0.5]\n",
      " [1. ]\n",
      " [1.5]\n",
      " [2. ]\n",
      " [2.5]\n",
      " [3. ]\n",
      " [3.5]\n",
      " [4. ]\n",
      " [4.5]\n",
      " [5. ]\n",
      " [5.5]]\n",
      "[[11.12362036]\n",
      " [13.85214292]\n",
      " [14.19598183]\n",
      " [14.79597545]\n",
      " [14.46805592]\n",
      " [15.46798356]\n",
      " [16.17425084]\n",
      " [19.59852844]\n",
      " [19.80334504]\n",
      " [21.12421773]\n",
      " [20.06175348]\n",
      " [23.90972956]]\n"
     ]
    }
   ],
   "source": [
    "# Посмотрим на сами данные\n",
    "print(x)\n",
    "print(y)"
   ]
  },
  {
   "cell_type": "code",
   "execution_count": 516,
   "metadata": {
    "colab": {
     "base_uri": "https://localhost:8080/",
     "height": 286
    },
    "id": "Y9ntdJ6tOns4",
    "outputId": "850d6ee4-479e-44c2-c680-181a13b40dfa"
   },
   "outputs": [
    {
     "data": {
      "text/plain": "[<matplotlib.lines.Line2D at 0x290be8416d0>]"
     },
     "execution_count": 516,
     "metadata": {},
     "output_type": "execute_result"
    },
    {
     "data": {
      "text/plain": "<Figure size 432x288 with 1 Axes>",
      "image/png": "[encoded data removed]"
     },
     "metadata": {
      "needs_background": "light"
     },
     "output_type": "display_data"
    }
   ],
   "source": [
    "# Объявим параметры: веса и шаг градиентного спуска\n",
    "\n",
    "w0 = np.random.rand()\n",
    "w1 = np.random.rand()\n",
    "step = 0.008\n",
    "\n",
    "# Как видно, случайно инициализированные веса не очень хорошо приблизили линейную зависимость.\n",
    "# Точнее вообще никак не приблизили\n",
    "plt.scatter(x, y)\n",
    "plt.plot(x, x*w1 + w0, c='red')"
   ]
  },
  {
   "cell_type": "markdown",
   "metadata": {
    "id": "mHSVCnC3Ons4"
   },
   "source": [
    "Скажем пару слов о графиках. Вы наверное уже поняли, что для двумерного графика нужно задать значения по осям `x` и `y` в виде массива. Есть дополнительный аргумент `c`, отвечающий за цвет элементов на графике.  \n",
    "Собственно, теперь о типах графиков.  \n",
    "`scatter` рисует точечную диаграмму, где парам элементов из `x` и `y` будет соответсвовать точка на плоскости.  \n",
    "`plot` просто рисует линию по заданным точкам. "
   ]
  },
  {
   "cell_type": "code",
   "execution_count": 517,
   "metadata": {
    "colab": {
     "base_uri": "https://localhost:8080/",
     "height": 282
    },
    "id": "Bu6TgWHiUvNZ",
    "outputId": "8061e6c2-fb7a-475e-c7df-4c97cd57fd53"
   },
   "outputs": [
    {
     "data": {
      "text/plain": "[<matplotlib.lines.Line2D at 0x290bec525e0>]"
     },
     "execution_count": 517,
     "metadata": {},
     "output_type": "execute_result"
    },
    {
     "data": {
      "text/plain": "<Figure size 432x288 with 2 Axes>",
      "image/png": "[encoded data removed]"
     },
     "metadata": {
      "needs_background": "light"
     },
     "output_type": "display_data"
    }
   ],
   "source": [
    "# Это может быть прямая, может быть ломаная линии:\n",
    "\n",
    "plt.subplot(2, 1, 1)\n",
    "plt.plot(x, 2*x + 10)\n",
    "\n",
    "plt.subplot(2,1,2)\n",
    "plt.plot(x, y)"
   ]
  },
  {
   "cell_type": "code",
   "execution_count": 518,
   "metadata": {
    "colab": {
     "base_uri": "https://localhost:8080/",
     "height": 282
    },
    "id": "gm_uK0N4Ons4",
    "outputId": "febc498e-c8ea-4cba-e9ae-e64b84efc0ea"
   },
   "outputs": [
    {
     "data": {
      "text/plain": "(4.240464278387851, 3.1314323370502537)"
     },
     "execution_count": 518,
     "metadata": {},
     "output_type": "execute_result"
    },
    {
     "data": {
      "text/plain": "<Figure size 432x288 with 1 Axes>",
      "image/png": "[encoded data removed]"
     },
     "metadata": {
      "needs_background": "light"
     },
     "output_type": "display_data"
    }
   ],
   "source": [
    "# Реализуем само обучение\n",
    "# Число шагов для обучения установим в 30\n",
    "\n",
    "for i in range(30):\n",
    "    \n",
    "    # Предсказание\n",
    "    pred = x*w1 + w0\n",
    "    \n",
    "    # MSE-loss\n",
    "    loss = np.sum((y - pred)**2)/x.shape[0]\n",
    "    \n",
    "    # шаг для каждого из весов\n",
    "    w1 = w1 - step*np.sum((pred - y) * x) * 2 / x.shape[0]\n",
    "    w0 = w0 - step*np.sum(pred - y) * 2 / x.shape[0]\n",
    "    \n",
    "    # Критерий остановки обучения:\n",
    "    # разница между значениями MSE меньше, чем на 0.01\n",
    "    # Вычтем из старого значения лосс-функции новое, полученное уже после обновления весов.\n",
    "    if np.abs(loss - np.sum((x*w1 + w0 - y)**2) / x.shape[0]) < 0.01:\n",
    "        print(loss)\n",
    "        break\n",
    "        \n",
    "\n",
    "# Теперь красная линия приближает данные лучше.        \n",
    "plt.scatter(x, y)\n",
    "plt.plot(x, x*w1 + w0, c='red')\n",
    "\n",
    "w1, w0"
   ]
  },
  {
   "cell_type": "markdown",
   "metadata": {
    "id": "vcVGHj_qOns5"
   },
   "source": [
    "### Классы в Python\n",
    "\n",
    "Класс в питоне в целом является таким же классом, с какими вы знакомились в рамках изучения C++ или любого другого языка - это собственный тип, или набор полей с методами доступа к ним и их обработки. \n",
    "\n",
    "Например, фрагмент простого класса 'число' с методом сложения выглядит так:\n",
    "```python\n",
    "class Number:    \n",
    "    def __init__(self, num):\n",
    "        self._body = num\n",
    "\n",
    "    def add(self, num2):\n",
    "        res = self._body + num2._body\n",
    "        \n",
    "        return Number(res)\n",
    "```\n",
    "\n",
    "Использование:\n",
    "```python\n",
    "n1 = Number(1)\n",
    "n2 = Number(2)\n",
    "\n",
    "n3 = n1.add(n2)\n",
    "# доступ к полю _body\n",
    "n3._body\n",
    "```\n",
    "На что тут важно обратить внимание?  \n",
    "\n",
    "- **Доступ к полям и методам** класса осуществляется через оператор 'точка': `.`.\n",
    " \n",
    "- По настоящему **приватных** методов и переменных в питоне нет, но есть специальное соглашение об именовании таких переменных и функций - используйте `_` перед именем переменной или метода. Таким образом, переменная `_body` является 'приватной' для класса `Number`.  \n",
    "\n",
    "- Методы класса имеют **параметр `self`** на первом месте. Это говорит о том, что функция работает с экземпляром класса, внутри которого была создана. В нашем примере с числом компилятором подразумевается, что `self` в методе `add` - это такой же класс `Number`.\n",
    "\n",
    "    Рассмотрим это подробнее:  \n",
    "    При использовании метода обычно пишут так -  \n",
    "    `экземпляр.метод(аргументы)`.  \n",
    "\n",
    "    При создании метода пишется так -   \n",
    "    `def метод(экземпляр, аргументы)`, то есть `self` на первом месте обозначает тот экземпляр класса, для которого будет вызван метод.\n",
    "    \n",
    "    Понятно, что `self` является зарезервированным словом (терминальным символом) языка, и, написав, например, `def add(NumberClass, num2)` вы не получите метод, работающий с экземпляром класса - вы получите просто метод, опредлененный внутри класса и требующий для работы два аргумента.\n",
    " \n",
    "\n",
    "- **Деструкторов** для класса в питоне нет, конструктор объявляется как `__init__(self, ...)`. Конструтор у класса может быть только один, создавать несколько конструкторов (как в `java`, например) нельзя.\n",
    "\n",
    "- **Поля _экземпляра_ класса** создаются так: `self.MyClassField = 2`  \n",
    "  Поля _экземпляра_ класса можно создавать только в _методах_ класса.    \n",
    "  Модификатор `self` играет тут ту же роль, что и в аргументе функции: так мы явно говорим, что переменная `myClassField` не является локальной, а является переменной экземпляра класса. \n",
    "  \n",
    "  Если же говорить о **_полях класса_**, то они создаются внутри области видимости _класса_, например в примере ниже `var1` - это переменная класса, а `var2` - переменная _экземпляра_ класса.\n",
    "```python\n",
    "class MyClass:\n",
    "    var1 = 45\n",
    "\n",
    "    def __init__(self, var2_value):\n",
    "        self.var2 = var2_value\n",
    "```\n",
    "  Если кратко поговорить об отличиях, то значение переменной _экземпляра_ класса уникально для каждого объекта класса, а значение переменной класса константно для всех объектов такого класса. [Подробнее про это можете почитать тут](https://www.toptal.com/python/python-class-attributes-an-overly-thorough-guide).\n",
    "\n",
    "\n",
    "[Подробнее про классы в питоне, их сравнение с классами из Java можно прочитать в этой статье](https://habr.com/ru/post/455796/)\n",
    "\n",
    "В этой справке мы не затронули тему перегрузки операторов класса, так как пока что, для выполнения заданий, это вам не понадобится. Тем не менее, можете почитать про это (необязательно!) [в статье](https://habr.com/ru/post/186608/)"
   ]
  },
  {
   "cell_type": "markdown",
   "metadata": {
    "id": "KiPYH8FYOns8"
   },
   "source": [
    "### Задание \n",
    "Реализовать модели линейной регрессии в виде класса, способного работать как с одномерным набором признаков(как в примере выше), так и с многомерным (когда у нас есть x_1, x_2 и тд).  \n",
    "Веса желательно задать в виде вектора, X преобразовать, добавив в начало единицу (см. теорию).  \n",
    "Используйте возможности библиотеки numpy (например, при использовании матриц, пользуйтесь [np.dot](https://numpy.org/doc/stable/reference/generated/numpy.dot.html), [np.transpose](https://numpy.org/doc/stable/reference/generated/numpy.transpose.html)).\n",
    "\n",
    "**Учтите**, что признаки - это `numpy`-массивы: таблицы с данными легко превратить в numpy-массив (это вы увидите позже), а сами по себе такие массивы удобнее, чем стандартные питоновские списки, в первую очередь за счет того, что\n",
    "- numpy быстрее, чем питон, так как под капотом написан на C,\n",
    "- в библиотеке реализовано множество полезных методов, в чем вы уже могли убедиться.\n",
    "\n",
    "Сигнатура класса, который должен у вас получиться:\n",
    "```python\n",
    "class linReg:\n",
    "    def __init__(self, lr = 0.0001, iters = 5000):\n",
    "        self.lr = lr\n",
    "        self.iters = iters\n",
    "\n",
    "    def fit(self, x, y):\n",
    "        pass\n",
    "    \n",
    "    def predict(self, x):\n",
    "        pass\n",
    "```\n",
    "Методы `fit` и `predict` обязательны к реализации, но если у вас появятся какие-нибудь специализированные методы, можете вынести их в приватные методы класса."
   ]
  },
  {
   "cell_type": "markdown",
   "metadata": {
    "id": "D8oCR58zOntA"
   },
   "source": [
    "**_В ячейках ниже напишите саму реализацию._**  \n",
    "**Помните**, что все ячейки в Colab имееют общую область видимости."
   ]
  },
  {
   "cell_type": "code",
   "execution_count": 519,
   "outputs": [],
   "source": [
    "def add_ones(x):\n",
    "    ones = np.ones((x.shape[0], 1))\n",
    "    return np.concatenate((ones, x), axis=1)"
   ],
   "metadata": {
    "collapsed": false
   }
  },
  {
   "cell_type": "code",
   "execution_count": 520,
   "metadata": {
    "id": "-I4-IcK5OntB"
   },
   "outputs": [],
   "source": [
    "class linReg:\n",
    "    def __init__(self, lr = 0.0001, iters = 5000):\n",
    "        self.lr = lr\n",
    "        self.iters = iters\n",
    "        self.weights = None\n",
    "\n",
    "\n",
    "    def fit(self, x, y):\n",
    "        x = add_ones(x)\n",
    "\n",
    "        self.weights = np.random.randn(x.shape[1])\n",
    "\n",
    "        for _ in range(self.iters):\n",
    "            y_predict = np.dot(x, self.weights)\n",
    "            error = y_predict - y\n",
    "\n",
    "            # mse grad\n",
    "            gradient = 2 * np.dot(np.transpose(x), error) / x.shape[0]\n",
    "            self.weights -= self.lr * gradient\n",
    "\n",
    "\n",
    "    def predict(self, x):\n",
    "        x = add_ones(x)\n",
    "        y_predict = np.dot(x, self.weights)\n",
    "\n",
    "        return y_predict"
   ]
  },
  {
   "cell_type": "markdown",
   "metadata": {
    "id": "CRU6h53vOntC"
   },
   "source": [
    "В ячейке ниже протестируем работу вашей реализации.  \n",
    "В переменной `linRegInstance` создается экземпляр класса `LinReg`, в конструкторе которого задаются параметры.  \n",
    "В следующей строке для созданного экземпляра вызвается метод `fit`, которому передаются тренировочные данные и который выполняет обучение модели, то есть находит оптимальные веса.  \n",
    "В переменную `pred` сохраняется предсказание."
   ]
  },
  {
   "cell_type": "code",
   "execution_count": 521,
   "metadata": {
    "colab": {
     "base_uri": "https://localhost:8080/",
     "height": 282
    },
    "id": "8GKZpH7FOntC",
    "outputId": "17b1b76e-d315-4f60-d931-b929532b1876"
   },
   "outputs": [
    {
     "data": {
      "text/plain": "array([9.54213563, 2.53701607])"
     },
     "execution_count": 521,
     "metadata": {},
     "output_type": "execute_result"
    },
    {
     "data": {
      "text/plain": "<Figure size 432x288 with 1 Axes>",
      "image/png": "[encoded data removed]"
     },
     "metadata": {
      "needs_background": "light"
     },
     "output_type": "display_data"
    }
   ],
   "source": [
    "# Checking on example data dataset\n",
    "\n",
    "from sklearn.datasets import make_regression\n",
    "from matplotlib import pyplot as plt\n",
    "np.random.seed(42)\n",
    "\n",
    "linRegInstance = linReg(iters=3000, lr=0.001)\n",
    "linRegInstance.fit(x, y.reshape(12))\n",
    "pred = linRegInstance.predict(x)\n",
    "\n",
    "plt.scatter(x, y)\n",
    "plt.plot(x, pred, c='red')\n",
    "\n",
    "linRegInstance.weights"
   ]
  },
  {
   "cell_type": "code",
   "execution_count": 522,
   "metadata": {
    "id": "5m-ALevrOntD"
   },
   "outputs": [],
   "source": [
    "# Проверим размерности\n",
    "assert pred.shape == np.array(y.reshape(12)).shape"
   ]
  },
  {
   "cell_type": "markdown",
   "metadata": {
    "id": "wOov9LCKPQ82"
   },
   "source": [
    "### Проверка на реальном датасете"
   ]
  },
  {
   "cell_type": "markdown",
   "metadata": {
    "id": "bchoZLFaOntD"
   },
   "source": [
    "Загрузим датасет с [прокатами велосипедов](https://www.kaggle.com/c/bike-sharing-demand/data).\n",
    "\n",
    "Попробуем решить задачу регрессии, и предсказать число прокатов в зависимости от погоды.  \n",
    "Описание всех признаков:  \n",
    "\n",
    "```\n",
    "season: 1 - весна, 2 - лето, 3 - осень, 4 - зима\n",
    "yr: 0 - 2011, 1 - 2012\n",
    "mnth: от 1 до 12\n",
    "holiday: 0 - нет праздника, 1 - есть праздник\n",
    "weekday: от 0 до 6\n",
    "workingday: 0 - нерабочий день, 1 - рабочий день\n",
    "weathersit: оценка благоприятности погоды от 1 (чистый, ясный день) до 4 (ливень, туман)\n",
    "temp: температура в Цельсиях\n",
    "atemp: температура по ощущениям в Цельсиях\n",
    "hum: влажность\n",
    "windspeed(mph): скорость ветра в милях в час\n",
    "windspeed(ms): скорость ветра в метрах в секунду\n",
    "cnt: количество арендованных велосипедов (это целевой признак, его мы будем предсказывать)\n",
    "```\n",
    "\n",
    "Предсказывать мы будем `cnt`, все остальные значения - нецелевые."
   ]
  },
  {
   "cell_type": "code",
   "execution_count": 523,
   "metadata": {
    "colab": {
     "base_uri": "https://localhost:8080/",
     "height": 204
    },
    "id": "nHu7jjXdOntD",
    "outputId": "a40e203d-fcc6-46fc-f933-159d742e2361"
   },
   "outputs": [
    {
     "data": {
      "text/plain": "   season  yr  mnth  holiday  weekday  workingday  weathersit       temp  \\\n0       1   0     1        0        6           0           2  14.110847   \n1       1   0     1        0        0           0           2  14.902598   \n2       1   0     1        0        1           1           1   8.050924   \n3       1   0     1        0        2           1           1   8.200000   \n4       1   0     1        0        3           1           1   9.305237   \n\n      atemp      hum  windspeed(mph)  windspeed(ms)   cnt  \n0  18.18125  80.5833       10.749882       4.805490   985  \n1  17.68695  69.6087       16.652113       7.443949   801  \n2   9.47025  43.7273       16.636703       7.437060  1349  \n3  10.60610  59.0435       10.739832       4.800998  1562  \n4  11.46350  43.6957       12.522300       5.597810  1600  ",
      "text/html": "<div>\n<style scoped>\n    .dataframe tbody tr th:only-of-type {\n        vertical-align: middle;\n    }\n\n    .dataframe tbody tr th {\n        vertical-align: top;\n    }\n\n    .dataframe thead th {\n        text-align: right;\n    }\n</style>\n<table border=\"1\" class=\"dataframe\">\n  <thead>\n    <tr style=\"text-align: right;\">\n      <th></th>\n      <th>season</th>\n      <th>yr</th>\n      <th>mnth</th>\n      <th>holiday</th>\n      <th>weekday</th>\n      <th>workingday</th>\n      <th>weathersit</th>\n      <th>temp</th>\n      <th>atemp</th>\n      <th>hum</th>\n      <th>windspeed(mph)</th>\n      <th>windspeed(ms)</th>\n      <th>cnt</th>\n    </tr>\n  </thead>\n  <tbody>\n    <tr>\n      <th>0</th>\n      <td>1</td>\n      <td>0</td>\n      <td>1</td>\n      <td>0</td>\n      <td>6</td>\n      <td>0</td>\n      <td>2</td>\n      <td>14.110847</td>\n      <td>18.18125</td>\n      <td>80.5833</td>\n      <td>10.749882</td>\n      <td>4.805490</td>\n      <td>985</td>\n    </tr>\n    <tr>\n      <th>1</th>\n      <td>1</td>\n      <td>0</td>\n      <td>1</td>\n      <td>0</td>\n      <td>0</td>\n      <td>0</td>\n      <td>2</td>\n      <td>14.902598</td>\n      <td>17.68695</td>\n      <td>69.6087</td>\n      <td>16.652113</td>\n      <td>7.443949</td>\n      <td>801</td>\n    </tr>\n    <tr>\n      <th>2</th>\n      <td>1</td>\n      <td>0</td>\n      <td>1</td>\n      <td>0</td>\n      <td>1</td>\n      <td>1</td>\n      <td>1</td>\n      <td>8.050924</td>\n      <td>9.47025</td>\n      <td>43.7273</td>\n      <td>16.636703</td>\n      <td>7.437060</td>\n      <td>1349</td>\n    </tr>\n    <tr>\n      <th>3</th>\n      <td>1</td>\n      <td>0</td>\n      <td>1</td>\n      <td>0</td>\n      <td>2</td>\n      <td>1</td>\n      <td>1</td>\n      <td>8.200000</td>\n      <td>10.60610</td>\n      <td>59.0435</td>\n      <td>10.739832</td>\n      <td>4.800998</td>\n      <td>1562</td>\n    </tr>\n    <tr>\n      <th>4</th>\n      <td>1</td>\n      <td>0</td>\n      <td>1</td>\n      <td>0</td>\n      <td>3</td>\n      <td>1</td>\n      <td>1</td>\n      <td>9.305237</td>\n      <td>11.46350</td>\n      <td>43.6957</td>\n      <td>12.522300</td>\n      <td>5.597810</td>\n      <td>1600</td>\n    </tr>\n  </tbody>\n</table>\n</div>"
     },
     "execution_count": 523,
     "metadata": {},
     "output_type": "execute_result"
    }
   ],
   "source": [
    "# Load data\n",
    "import pandas as pd\n",
    "\n",
    "link = './bikes_rent.csv.gz'\n",
    "data = pd.read_csv(link)\n",
    "data.head()"
   ]
  },
  {
   "cell_type": "markdown",
   "metadata": {
    "id": "HBEEr3hKOntE"
   },
   "source": [
    "Как видно, все данные у нас разного масштаба. Нам нужно привести все к одному масштабу, чтобы у нас не было такого большого разброса значений."
   ]
  },
  {
   "cell_type": "markdown",
   "metadata": {
    "id": "I0G895CgOntE"
   },
   "source": [
    "Зачем? Ответ заключается в том, что, как мы помним, в линейной регрессии используются взвешенные суммы признаков, соответсвенно, если их значения будут сильно отличаться друг от друга, то это приведет к расхождениям при обучении градиентным спуском."
   ]
  },
  {
   "cell_type": "markdown",
   "metadata": {
    "id": "OTmxpijwOntE"
   },
   "source": [
    "Взглянем на распределение признаков, используя графики из библиотеки `seaborn`.  \n",
    "По сути, `seaborn` это некая обертка над `matplotlib`, позволяющая строить чуть более красивые графики.  \n",
    "\n",
    "Сейчас нам понадобится [kdeplot](https://seaborn.pydata.org/generated/seaborn.kdeplot.html).  \n",
    "Данный график показывает _распределение плотности_ случайной величины, за которую мы берем столбец таблицы.  "
   ]
  },
  {
   "cell_type": "code",
   "execution_count": 524,
   "metadata": {
    "colab": {
     "base_uri": "https://localhost:8080/",
     "height": 296
    },
    "id": "UJC53fZtOntE",
    "outputId": "151cf871-a057-483c-b796-8facd6e54bf2"
   },
   "outputs": [
    {
     "data": {
      "text/plain": "<AxesSubplot:xlabel='temp', ylabel='Density'>"
     },
     "execution_count": 524,
     "metadata": {},
     "output_type": "execute_result"
    },
    {
     "data": {
      "text/plain": "<Figure size 432x288 with 1 Axes>",
      "image/png": "[encoded data removed]"
     },
     "metadata": {
      "needs_background": "light"
     },
     "output_type": "display_data"
    }
   ],
   "source": [
    "import seaborn as sns\n",
    "\n",
    "sns.kdeplot(data['temp'])\n",
    "sns.kdeplot(data['atemp'])\n",
    "sns.kdeplot(data['windspeed(ms)'])\n",
    "sns.kdeplot(data['windspeed(mph)'])\n",
    "sns.kdeplot(data['hum'])"
   ]
  },
  {
   "cell_type": "markdown",
   "metadata": {
    "id": "_jsqJDjoOntF"
   },
   "source": [
    "Как мы видим, все весьма неплохо, и величины вроде как укладываются в один масштаб...  \n",
    "Но, если мы нарисуем вместе не только вещественные (тип `float`) признаки, но и категориальные, то увидим, что все данные имеют разный масштаб, и в таком случае предсказать что-то не представляется возможным.  \n",
    "\n",
    "\n",
    "Обратите внимание, что мы рисуем только нецелевые признаки - так как значение `cnt` мы будем предсказывать, то мы его тут не учитываем."
   ]
  },
  {
   "cell_type": "markdown",
   "metadata": {
    "id": "dprGozmzOntF"
   },
   "source": [
    "Метод [DataFrame.drop](https://pandas.pydata.org/pandas-docs/stable/reference/api/pandas.DataFrame.drop.html) удаляет нужную колонку из датафрейма, и возвращает новый датафрейм, уже без удаляемой колонки. Так как целевой признак `cnt`, то именно его мы и удаляем."
   ]
  },
  {
   "cell_type": "code",
   "execution_count": 525,
   "metadata": {
    "colab": {
     "base_uri": "https://localhost:8080/",
     "height": 496
    },
    "id": "3AQSKyOMOntF",
    "outputId": "72b8b91e-bed3-4b89-ae68-e1cf8d00d145"
   },
   "outputs": [
    {
     "data": {
      "text/plain": "<Figure size 864x576 with 1 Axes>",
      "image/png": "[encoded data removed]"
     },
     "metadata": {
      "needs_background": "light"
     },
     "output_type": "display_data"
    }
   ],
   "source": [
    "plt.figure(figsize=(12,8))\n",
    "for i in data.drop(['cnt'], axis=1).columns:\n",
    "    sns.kdeplot(data[i])"
   ]
  },
  {
   "cell_type": "markdown",
   "metadata": {
    "id": "wpVJALt0OntF"
   },
   "source": [
    "Напишем небольшую реализацию `StandardScaler`. Суть его работы проста: все приводится к нулевому среднему значению, и единичному отклонению.  \n",
    "Формула:  \n",
    "$$x_i = \\frac{x_i - mean(X)}{std(X)}$$  \n",
    "где `mean` - среднее, `std` - среднеквадратичное отклонение.  \n",
    "Соответсвенно после масштабирования `Mean(X) = 0` и `Std(X) = 0`"
   ]
  },
  {
   "cell_type": "code",
   "execution_count": 526,
   "metadata": {
    "id": "zbe9NALrOntG"
   },
   "outputs": [],
   "source": [
    "def StandardScaler(X):\n",
    "    mean = X - np.mean(X)\n",
    "    return mean / np.std(X)"
   ]
  },
  {
   "cell_type": "code",
   "execution_count": 527,
   "metadata": {
    "id": "HjBGq9itOntG"
   },
   "outputs": [],
   "source": [
    "# разобьем выборку на целевые и нецелевые признаки\n",
    "x = data.drop(['cnt'], axis=1)\n",
    "y = data['cnt']"
   ]
  },
  {
   "cell_type": "code",
   "execution_count": 528,
   "metadata": {
    "colab": {
     "base_uri": "https://localhost:8080/",
     "height": 426
    },
    "id": "HcewagSdOntG",
    "outputId": "1252cd6a-af1d-4283-b524-78b85a2c43ed"
   },
   "outputs": [
    {
     "name": "stderr",
     "output_type": "stream",
     "text": [
      "C:\\Users\\ASUS\\anaconda3\\lib\\site-packages\\numpy\\core\\fromnumeric.py:3438: FutureWarning: In a future version, DataFrame.mean(axis=None) will return a scalar mean over the entire DataFrame. To retain the old behavior, use 'frame.mean(axis=0)' or just 'frame.mean()'\n",
      "  return mean(axis=axis, dtype=dtype, out=out, **kwargs)\n"
     ]
    },
    {
     "data": {
      "text/plain": "       season        yr      mnth   holiday   weekday  workingday  weathersit  \\\n0   -1.348213 -1.001369 -1.600161 -0.171981  1.498809   -1.471225    1.110427   \n1   -1.348213 -1.001369 -1.600161 -0.171981 -1.496077   -1.471225    1.110427   \n2   -1.348213 -1.001369 -1.600161 -0.171981 -0.996930    0.679706   -0.726048   \n3   -1.348213 -1.001369 -1.600161 -0.171981 -0.497782    0.679706   -0.726048   \n4   -1.348213 -1.001369 -1.600161 -0.171981  0.001366    0.679706   -0.726048   \n..        ...       ...       ...       ...       ...         ...         ...   \n726 -1.348213  0.998633  1.588660 -0.171981  0.500513    0.679706    1.110427   \n727 -1.348213  0.998633  1.588660 -0.171981  0.999661    0.679706    1.110427   \n728 -1.348213  0.998633  1.588660 -0.171981  1.498809   -1.471225    1.110427   \n729 -1.348213  0.998633  1.588660 -0.171981 -1.496077   -1.471225   -0.726048   \n730 -1.348213  0.998633  1.588660 -0.171981 -0.996930    0.679706    1.110427   \n\n         temp     atemp       hum  windspeed(mph)  windspeed(ms)  \n0   -0.826662 -0.679946  1.250171       -0.387892      -0.387892  \n1   -0.721095 -0.740652  0.479113        0.749602       0.749602  \n2   -1.634657 -1.749767 -1.339274        0.746632       0.746632  \n3   -1.614780 -1.610270 -0.263182       -0.389829      -0.389829  \n4   -1.467414 -1.504971 -1.341494       -0.046307      -0.046307  \n..        ...       ...       ...             ...            ...  \n726 -1.318665 -1.521108  0.175807        2.061426       2.061426  \n727 -1.323224 -1.346690 -0.266238       -0.452131      -0.452131  \n728 -1.323224 -1.424344  0.878392       -0.853552      -0.853552  \n729 -1.309558 -1.490049 -1.015664        2.069444       2.069444  \n730 -1.528225 -1.540482 -0.354061       -0.460201      -0.460201  \n\n[731 rows x 12 columns]",
      "text/html": "<div>\n<style scoped>\n    .dataframe tbody tr th:only-of-type {\n        vertical-align: middle;\n    }\n\n    .dataframe tbody tr th {\n        vertical-align: top;\n    }\n\n    .dataframe thead th {\n        text-align: right;\n    }\n</style>\n<table border=\"1\" class=\"dataframe\">\n  <thead>\n    <tr style=\"text-align: right;\">\n      <th></th>\n      <th>season</th>\n      <th>yr</th>\n      <th>mnth</th>\n      <th>holiday</th>\n      <th>weekday</th>\n      <th>workingday</th>\n      <th>weathersit</th>\n      <th>temp</th>\n      <th>atemp</th>\n      <th>hum</th>\n      <th>windspeed(mph)</th>\n      <th>windspeed(ms)</th>\n    </tr>\n  </thead>\n  <tbody>\n    <tr>\n      <th>0</th>\n      <td>-1.348213</td>\n      <td>-1.001369</td>\n      <td>-1.600161</td>\n      <td>-0.171981</td>\n      <td>1.498809</td>\n      <td>-1.471225</td>\n      <td>1.110427</td>\n      <td>-0.826662</td>\n      <td>-0.679946</td>\n      <td>1.250171</td>\n      <td>-0.387892</td>\n      <td>-0.387892</td>\n    </tr>\n    <tr>\n      <th>1</th>\n      <td>-1.348213</td>\n      <td>-1.001369</td>\n      <td>-1.600161</td>\n      <td>-0.171981</td>\n      <td>-1.496077</td>\n      <td>-1.471225</td>\n      <td>1.110427</td>\n      <td>-0.721095</td>\n      <td>-0.740652</td>\n      <td>0.479113</td>\n      <td>0.749602</td>\n      <td>0.749602</td>\n    </tr>\n    <tr>\n      <th>2</th>\n      <td>-1.348213</td>\n      <td>-1.001369</td>\n      <td>-1.600161</td>\n      <td>-0.171981</td>\n      <td>-0.996930</td>\n      <td>0.679706</td>\n      <td>-0.726048</td>\n      <td>-1.634657</td>\n      <td>-1.749767</td>\n      <td>-1.339274</td>\n      <td>0.746632</td>\n      <td>0.746632</td>\n    </tr>\n    <tr>\n      <th>3</th>\n      <td>-1.348213</td>\n      <td>-1.001369</td>\n      <td>-1.600161</td>\n      <td>-0.171981</td>\n      <td>-0.497782</td>\n      <td>0.679706</td>\n      <td>-0.726048</td>\n      <td>-1.614780</td>\n      <td>-1.610270</td>\n      <td>-0.263182</td>\n      <td>-0.389829</td>\n      <td>-0.389829</td>\n    </tr>\n    <tr>\n      <th>4</th>\n      <td>-1.348213</td>\n      <td>-1.001369</td>\n      <td>-1.600161</td>\n      <td>-0.171981</td>\n      <td>0.001366</td>\n      <td>0.679706</td>\n      <td>-0.726048</td>\n      <td>-1.467414</td>\n      <td>-1.504971</td>\n      <td>-1.341494</td>\n      <td>-0.046307</td>\n      <td>-0.046307</td>\n    </tr>\n    <tr>\n      <th>...</th>\n      <td>...</td>\n      <td>...</td>\n      <td>...</td>\n      <td>...</td>\n      <td>...</td>\n      <td>...</td>\n      <td>...</td>\n      <td>...</td>\n      <td>...</td>\n      <td>...</td>\n      <td>...</td>\n      <td>...</td>\n    </tr>\n    <tr>\n      <th>726</th>\n      <td>-1.348213</td>\n      <td>0.998633</td>\n      <td>1.588660</td>\n      <td>-0.171981</td>\n      <td>0.500513</td>\n      <td>0.679706</td>\n      <td>1.110427</td>\n      <td>-1.318665</td>\n      <td>-1.521108</td>\n      <td>0.175807</td>\n      <td>2.061426</td>\n      <td>2.061426</td>\n    </tr>\n    <tr>\n      <th>727</th>\n      <td>-1.348213</td>\n      <td>0.998633</td>\n      <td>1.588660</td>\n      <td>-0.171981</td>\n      <td>0.999661</td>\n      <td>0.679706</td>\n      <td>1.110427</td>\n      <td>-1.323224</td>\n      <td>-1.346690</td>\n      <td>-0.266238</td>\n      <td>-0.452131</td>\n      <td>-0.452131</td>\n    </tr>\n    <tr>\n      <th>728</th>\n      <td>-1.348213</td>\n      <td>0.998633</td>\n      <td>1.588660</td>\n      <td>-0.171981</td>\n      <td>1.498809</td>\n      <td>-1.471225</td>\n      <td>1.110427</td>\n      <td>-1.323224</td>\n      <td>-1.424344</td>\n      <td>0.878392</td>\n      <td>-0.853552</td>\n      <td>-0.853552</td>\n    </tr>\n    <tr>\n      <th>729</th>\n      <td>-1.348213</td>\n      <td>0.998633</td>\n      <td>1.588660</td>\n      <td>-0.171981</td>\n      <td>-1.496077</td>\n      <td>-1.471225</td>\n      <td>-0.726048</td>\n      <td>-1.309558</td>\n      <td>-1.490049</td>\n      <td>-1.015664</td>\n      <td>2.069444</td>\n      <td>2.069444</td>\n    </tr>\n    <tr>\n      <th>730</th>\n      <td>-1.348213</td>\n      <td>0.998633</td>\n      <td>1.588660</td>\n      <td>-0.171981</td>\n      <td>-0.996930</td>\n      <td>0.679706</td>\n      <td>1.110427</td>\n      <td>-1.528225</td>\n      <td>-1.540482</td>\n      <td>-0.354061</td>\n      <td>-0.460201</td>\n      <td>-0.460201</td>\n    </tr>\n  </tbody>\n</table>\n<p>731 rows × 12 columns</p>\n</div>"
     },
     "execution_count": 528,
     "metadata": {},
     "output_type": "execute_result"
    }
   ],
   "source": [
    "x_scaled = StandardScaler(x)\n",
    "x_scaled"
   ]
  },
  {
   "cell_type": "markdown",
   "metadata": {
    "id": "YQ_HryO_OntG"
   },
   "source": [
    "Визуализируем теперь отмасштабированные значения, используя тот же `distplot`  \n",
    "(Это вы можете сделать самостоятельно).  \n",
    "\n",
    "Видно, что признаки теперь имеют одинаковый масштаб, и их распределение похоже на нормальное."
   ]
  },
  {
   "cell_type": "code",
   "execution_count": 529,
   "metadata": {
    "colab": {
     "base_uri": "https://localhost:8080/",
     "height": 496
    },
    "id": "f1dfIFPyOntH",
    "outputId": "8e70632b-b71c-4f78-9a3b-578822028569"
   },
   "outputs": [
    {
     "data": {
      "text/plain": "<Figure size 864x576 with 1 Axes>",
      "image/png": "[encoded data removed]"
     },
     "metadata": {
      "needs_background": "light"
     },
     "output_type": "display_data"
    }
   ],
   "source": [
    "plt.figure(figsize=(12,8))\n",
    "for i in x_scaled.columns:\n",
    "    sns.kdeplot(x_scaled[i])"
   ]
  },
  {
   "cell_type": "markdown",
   "metadata": {
    "id": "-Koj524zOntH"
   },
   "source": [
    "Проверим среднее и отклонение. Поле `values` классов `DataFrame` или `Series` вернет numpy-массив."
   ]
  },
  {
   "cell_type": "code",
   "execution_count": 530,
   "metadata": {
    "colab": {
     "base_uri": "https://localhost:8080/"
    },
    "id": "d63VqgxGOntH",
    "outputId": "df490fd8-5502-4852-9e92-fbaf8033d742"
   },
   "outputs": [
    {
     "name": "stdout",
     "output_type": "stream",
     "text": [
      "1.7739268026842446e-16\n",
      "1.0\n"
     ]
    }
   ],
   "source": [
    "print(np.mean(x_scaled.values))\n",
    "print(np.std(x_scaled.values))"
   ]
  },
  {
   "cell_type": "markdown",
   "metadata": {
    "id": "LGofnRgxOntI"
   },
   "source": [
    "Среднее должно быть околонулевым значением, а отклонение равно единице."
   ]
  },
  {
   "cell_type": "code",
   "execution_count": 531,
   "metadata": {
    "id": "LoYBrhdWOntI"
   },
   "outputs": [],
   "source": [
    "# переименуем переменные для удобства,\n",
    "# и превратим данные в numpy-массивы.\n",
    "x = x_scaled.values\n",
    "y = y.values\n",
    "\n",
    "\n",
    "model = linReg(iters=5000, lr=0.001)\n",
    "model.fit(x, y)\n",
    "pred = model.predict(x)"
   ]
  },
  {
   "cell_type": "markdown",
   "metadata": {
    "id": "-Wefwu9VOntI"
   },
   "source": [
    "Посмотрим на размер предсказаных значений"
   ]
  },
  {
   "cell_type": "code",
   "execution_count": 532,
   "metadata": {
    "id": "nBpBaZcPOntI"
   },
   "outputs": [],
   "source": [
    "assert pred.shape == y.shape, \"Неправильные размеры\""
   ]
  },
  {
   "cell_type": "markdown",
   "metadata": {
    "id": "5FTQ2PswOntI"
   },
   "source": [
    "------------------------------------------------------------------------------------------------------------\n",
    "------------------------------------------------------------------------------------------------------------\n",
    "\n",
    "\n",
    "Оценка за задание высчитывается следующим образом исходя из RSS и TSS:\n",
    "\n",
    "$$\n",
    "RSS = \\sum_{i=1}^{n} {\\left(y_i - model(x_i)\\right)}^2 \\\\\n",
    "TSS = \\sum_{i=1}^{n} {\\left(y_i - \\overline{y}\\right)}^2,\\ где\\ \\overline{y}\\ -\\ среднее, \\\\\n",
    "total\\ score = 1 - \\frac{RSS}{TSS}\n",
    "$$\n",
    "\n",
    "Собственно, точно так же оценивается качество линейной регрессии в библиотеке `sklearn`. \n",
    "\n",
    "Если Ваш $total\\ score$ выше либо равен 0.79, то оценка - 100 баллов.   \n",
    "Если Ваш $total\\ score$ выше либо равен 0.69, то оценка - 85 баллов  \n",
    "Если Ваш $total\\ score$ выше либо равен 0.55, то оценка - 70 баллов  \n",
    "Если Ваш $total\\ score$ выше 0.5, то оценка - 40 баллов.  \n",
    "Если Ваш $total\\ score$ равен либо ниже 0.5, то оценка - 0 баллов.  "
   ]
  },
  {
   "cell_type": "code",
   "execution_count": 533,
   "metadata": {
    "colab": {
     "base_uri": "https://localhost:8080/"
    },
    "id": "lRjs2BK0OntJ",
    "outputId": "202c782a-8da0-46dd-b327-b00ca9d6c22e"
   },
   "outputs": [
    {
     "name": "stdout",
     "output_type": "stream",
     "text": [
      "Оценка 100 баллов\n"
     ]
    }
   ],
   "source": [
    "RSS = ((y - pred) ** 2).sum()\n",
    "TSS = ((y - y.mean()) ** 2).sum()\n",
    "\n",
    "score = 1-RSS/TSS\n",
    "print(f'Оценка {100 if score >= 0.79 else (85 if score >= 0.69 else (70 if score >= 0.55 else (40 if score > 0.5 else 0)))} баллов')"
   ]
  },
  {
   "cell_type": "code",
   "execution_count": 534,
   "metadata": {
    "colab": {
     "base_uri": "https://localhost:8080/"
    },
    "id": "bQXPoC1UOntJ",
    "outputId": "729149e1-c3ae-4575-d9ad-3a0d21ddf111"
   },
   "outputs": [
    {
     "data": {
      "text/plain": "(0.800575649057194, 0.7998283435962368, 0.800575649057194)"
     },
     "execution_count": 534,
     "metadata": {},
     "output_type": "execute_result"
    }
   ],
   "source": [
    "# сравним нашу реализацию с реализацией из Sklearn\n",
    "from sklearn.linear_model import LinearRegression\n",
    "\n",
    "model = LinearRegression()\n",
    "model.fit(x, y)\n",
    "pred_lib = model.predict(x)\n",
    "\n",
    "RSS = ((y - pred_lib) ** 2).sum()\n",
    "TSS = ((y - y.mean()) ** 2).sum()\n",
    "\n",
    "score_lib = 1-RSS/TSS\n",
    "score_lib, score, model.score(x, y)"
   ]
  }
 ],
 "metadata": {
  "colab": {
   "collapsed_sections": [],
   "name": "02-linreg.ipynb",
   "provenance": [],
   "toc_visible": true
  },
  "kernelspec": {
   "display_name": "Python 3",
   "language": "python",
   "name": "python3"
  },
  "language_info": {
   "codemirror_mode": {
    "name": "ipython",
    "version": 3
   },
   "file_extension": ".py",
   "mimetype": "text/x-python",
   "name": "python",
   "nbconvert_exporter": "python",
   "pygments_lexer": "ipython3",
   "version": "3.9.1"
  }
 },
 "nbformat": 4,
 "nbformat_minor": 1
}
